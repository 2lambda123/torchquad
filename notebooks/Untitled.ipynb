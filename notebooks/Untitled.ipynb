{
 "cells": [
  {
   "cell_type": "code",
   "execution_count": 1,
   "id": "c7579886",
   "metadata": {},
   "outputs": [],
   "source": [
    "import scipy\n",
    "import numpy as np\n",
    "\n",
    "# For benchmarking\n",
    "import time\n",
    "from scipy.integrate import nquad\n",
    "\n",
    "# For plotting\n",
    "import matplotlib.pyplot as plt\n",
    "\n",
    "# To avoid copying things to GPU memory,\n",
    "# ideally allocate everything in torch on the GPU\n",
    "# and avoid non-torch function calls\n",
    "import torch\n",
    "torch.set_printoptions(precision=10) # Set displayed output precision to 10 digits\n",
    "\n",
    "from torchquad import enable_cuda # Necessary to enable GPU support\n",
    "from torchquad import Trapezoid, Simpson, Boole, MonteCarlo, VEGAS # The available integrators\n",
    "import torchquad"
   ]
  },
  {
   "cell_type": "code",
   "execution_count": 2,
   "id": "d249855d",
   "metadata": {},
   "outputs": [],
   "source": [
    "enable_cuda() # Use this to enable GPU support"
   ]
  },
  {
   "cell_type": "code",
   "execution_count": 32,
   "id": "98a974cd",
   "metadata": {},
   "outputs": [],
   "source": [
    "def f(x):\n",
    "    return torch.exp(3.0j*x) * torch.pow(x,2)\n",
    "\n",
    "def print_error(result,solution):\n",
    "    print(\"Results:\",result.item())\n",
    "    print(f\"Abs. Error: {(torch.abs(result - solution).item()):.8e}\")\n",
    "    print(f\"Rel. Error: {(torch.abs((result - solution) / solution).item()):.8e}\")\n",
    "\n",
    "solution = -2.0j / 27.0 * (1.0 + (17.0 + 6.0j) * torch.exp(torch.tensor([6.0j])) )"
   ]
  },
  {
   "cell_type": "code",
   "execution_count": 33,
   "id": "9509c8d9",
   "metadata": {},
   "outputs": [
    {
     "data": {
      "text/plain": [
       "Text(0, 0.5, 'f($x$)')"
      ]
     },
     "execution_count": 33,
     "metadata": {},
     "output_type": "execute_result"
    },
    {
     "data": {
      "image/png": "[encoded data removed]",
      "text/plain": [
       "<Figure size 432x288 with 1 Axes>"
      ]
     },
     "metadata": {
      "needs_background": "light"
     },
     "output_type": "display_data"
    }
   ],
   "source": [
    "points = torch.linspace(0,2,100)\n",
    "real_part = f(points).real\n",
    "imag_part = f(points).imag\n",
    "\n",
    "plt.plot(points.cpu(),real_part.cpu()) # Note that for plotting we have to move the values to the CPU first\n",
    "plt.plot(points.cpu(),imag_part.cpu()) # Note that for plotting we have to move the values to the CPU first\n",
    "plt.legend([\"Real\", \"Imag\"],fontsize=14)\n",
    "plt.xlabel(\"$x$\",fontsize=14)\n",
    "plt.ylabel(\"f($x$)\",fontsize=14)"
   ]
  },
  {
   "cell_type": "code",
   "execution_count": 34,
   "id": "54ed0d51",
   "metadata": {},
   "outputs": [],
   "source": [
    "integration_domain = [[0, 2]] # Integration domain is always a list of lists to allow arbitrary dimensionality.\n",
    "tp = Trapezoid()  # Initialize a trapezoid solver"
   ]
  },
  {
   "cell_type": "code",
   "execution_count": 35,
   "id": "a63b9563",
   "metadata": {},
   "outputs": [
    {
     "name": "stdout",
     "output_type": "stream",
     "text": [
      "Results: (0.07512567937374115-1.407015323638916j)\n",
      "Abs. Error: 4.21665376e-04\n",
      "Rel. Error: 2.99190753e-04\n"
     ]
    }
   ],
   "source": [
    "result = tp.integrate(f, dim=1, N=101, integration_domain=integration_domain)\n",
    "print_error(result,solution)"
   ]
  },
  {
   "cell_type": "code",
   "execution_count": 36,
   "id": "162d26f4",
   "metadata": {},
   "outputs": [
    {
     "name": "stdout",
     "output_type": "stream",
     "text": [
      "Results: (0.0748857706785202-1.4073622226715088j)\n",
      "Abs. Error: 1.21286661e-07\n",
      "Rel. Error: 8.60583995e-08\n"
     ]
    }
   ],
   "source": [
    "simp = Simpson()\n",
    "result = simp.integrate(f, dim=1, N=101, integration_domain=integration_domain)\n",
    "print_error(result,solution)"
   ]
  },
  {
   "cell_type": "code",
   "execution_count": 37,
   "id": "adbcfd7f",
   "metadata": {},
   "outputs": [
    {
     "name": "stdout",
     "output_type": "stream",
     "text": [
      "Results: (0.0882788747549057-1.2951914072036743j)\n",
      "Abs. Error: 1.12967424e-01\n",
      "Rel. Error: 8.01555291e-02\n"
     ]
    }
   ],
   "source": [
    "mc = MonteCarlo()\n",
    "result = mc.integrate(f, dim=1, N=101, integration_domain=integration_domain)\n",
    "print_error(result,solution)"
   ]
  },
  {
   "cell_type": "code",
   "execution_count": 38,
   "id": "d076d935",
   "metadata": {},
   "outputs": [
    {
     "ename": "RuntimeError",
     "evalue": "result type ComplexFloat can't be cast to the desired output type Float",
     "output_type": "error",
     "traceback": [
      "\u001b[1;31m---------------------------------------------------------------------------\u001b[0m",
      "\u001b[1;31mRuntimeError\u001b[0m                              Traceback (most recent call last)",
      "\u001b[1;32m<ipython-input-38-a6d3081c17f9>\u001b[0m in \u001b[0;36m<module>\u001b[1;34m\u001b[0m\n\u001b[0;32m      1\u001b[0m \u001b[0mvegas\u001b[0m \u001b[1;33m=\u001b[0m \u001b[0mVEGAS\u001b[0m\u001b[1;33m(\u001b[0m\u001b[1;33m)\u001b[0m\u001b[1;33m\u001b[0m\u001b[1;33m\u001b[0m\u001b[0m\n\u001b[1;32m----> 2\u001b[1;33m \u001b[0mresult\u001b[0m \u001b[1;33m=\u001b[0m \u001b[0mvegas\u001b[0m\u001b[1;33m.\u001b[0m\u001b[0mintegrate\u001b[0m\u001b[1;33m(\u001b[0m\u001b[0mf\u001b[0m\u001b[1;33m,\u001b[0m\u001b[0mdim\u001b[0m\u001b[1;33m=\u001b[0m\u001b[1;36m1\u001b[0m\u001b[1;33m,\u001b[0m\u001b[0mN\u001b[0m\u001b[1;33m=\u001b[0m\u001b[1;36m101\u001b[0m\u001b[1;33m,\u001b[0m\u001b[0mintegration_domain\u001b[0m\u001b[1;33m=\u001b[0m\u001b[0mintegration_domain\u001b[0m\u001b[1;33m)\u001b[0m\u001b[1;33m\u001b[0m\u001b[1;33m\u001b[0m\u001b[0m\n\u001b[0m\u001b[0;32m      3\u001b[0m \u001b[0mprint_error\u001b[0m\u001b[1;33m(\u001b[0m\u001b[0mresult\u001b[0m\u001b[1;33m,\u001b[0m\u001b[0msolution\u001b[0m\u001b[1;33m)\u001b[0m\u001b[1;33m\u001b[0m\u001b[1;33m\u001b[0m\u001b[0m\n",
      "\u001b[1;32mc:\\users\\htoft\\documents\\esacode\\torchquad\\torchquad\\integration\\vegas.py\u001b[0m in \u001b[0;36mintegrate\u001b[1;34m(self, fn, dim, N, integration_domain, seed, use_grid_improve, eps_rel, eps_abs, max_iterations, use_warmup)\u001b[0m\n\u001b[0;32m    100\u001b[0m \u001b[1;33m\u001b[0m\u001b[0m\n\u001b[0;32m    101\u001b[0m         \u001b[1;32mif\u001b[0m \u001b[0muse_warmup\u001b[0m\u001b[1;33m:\u001b[0m  \u001b[1;31m# warmup the adaptive map\u001b[0m\u001b[1;33m\u001b[0m\u001b[1;33m\u001b[0m\u001b[0m\n\u001b[1;32m--> 102\u001b[1;33m             \u001b[0mself\u001b[0m\u001b[1;33m.\u001b[0m\u001b[0m_warmup_grid\u001b[0m\u001b[1;33m(\u001b[0m\u001b[1;36m5\u001b[0m\u001b[1;33m,\u001b[0m \u001b[0mself\u001b[0m\u001b[1;33m.\u001b[0m\u001b[0m_starting_N\u001b[0m \u001b[1;33m//\u001b[0m \u001b[1;36m5\u001b[0m\u001b[1;33m)\u001b[0m\u001b[1;33m\u001b[0m\u001b[1;33m\u001b[0m\u001b[0m\n\u001b[0m\u001b[0;32m    103\u001b[0m \u001b[1;33m\u001b[0m\u001b[0m\n\u001b[0;32m    104\u001b[0m         \u001b[1;31m# Main loop\u001b[0m\u001b[1;33m\u001b[0m\u001b[1;33m\u001b[0m\u001b[1;33m\u001b[0m\u001b[0m\n",
      "\u001b[1;32mc:\\users\\htoft\\documents\\esacode\\torchquad\\torchquad\\integration\\vegas.py\u001b[0m in \u001b[0;36m_warmup_grid\u001b[1;34m(self, warmup_N_it, N_samples)\u001b[0m\n\u001b[0;32m    190\u001b[0m             \u001b[0mjf_vec\u001b[0m \u001b[1;33m=\u001b[0m \u001b[0mf_eval\u001b[0m \u001b[1;33m*\u001b[0m \u001b[0mjac\u001b[0m\u001b[1;33m\u001b[0m\u001b[1;33m\u001b[0m\u001b[0m\n\u001b[0;32m    191\u001b[0m             \u001b[0mjf_vec2\u001b[0m \u001b[1;33m=\u001b[0m \u001b[0mjf_vec\u001b[0m \u001b[1;33m**\u001b[0m \u001b[1;36m2\u001b[0m\u001b[1;33m\u001b[0m\u001b[1;33m\u001b[0m\u001b[0m\n\u001b[1;32m--> 192\u001b[1;33m             \u001b[0mself\u001b[0m\u001b[1;33m.\u001b[0m\u001b[0mmap\u001b[0m\u001b[1;33m.\u001b[0m\u001b[0maccumulate_weight\u001b[0m\u001b[1;33m(\u001b[0m\u001b[0myrnd\u001b[0m\u001b[1;33m,\u001b[0m \u001b[0mjf_vec2\u001b[0m\u001b[1;33m)\u001b[0m  \u001b[1;31m# update map weights\u001b[0m\u001b[1;33m\u001b[0m\u001b[1;33m\u001b[0m\u001b[0m\n\u001b[0m\u001b[0;32m    193\u001b[0m             \u001b[0mjf\u001b[0m \u001b[1;33m=\u001b[0m \u001b[0mjf_vec\u001b[0m\u001b[1;33m.\u001b[0m\u001b[0msum\u001b[0m\u001b[1;33m(\u001b[0m\u001b[1;33m)\u001b[0m\u001b[1;33m\u001b[0m\u001b[1;33m\u001b[0m\u001b[0m\n\u001b[0;32m    194\u001b[0m             \u001b[0mjf2\u001b[0m \u001b[1;33m=\u001b[0m \u001b[0mjf_vec2\u001b[0m\u001b[1;33m.\u001b[0m\u001b[0msum\u001b[0m\u001b[1;33m(\u001b[0m\u001b[1;33m)\u001b[0m\u001b[1;33m\u001b[0m\u001b[1;33m\u001b[0m\u001b[0m\n",
      "\u001b[1;32mc:\\users\\htoft\\documents\\esacode\\torchquad\\torchquad\\integration\\vegas_map.py\u001b[0m in \u001b[0;36maccumulate_weight\u001b[1;34m(self, y, jf_vec2)\u001b[0m\n\u001b[0;32m    117\u001b[0m             \u001b[0mweights_vals\u001b[0m \u001b[1;33m=\u001b[0m \u001b[0mjf_vec2\u001b[0m\u001b[1;33m\u001b[0m\u001b[1;33m\u001b[0m\u001b[0m\n\u001b[0;32m    118\u001b[0m             \u001b[1;32mfor\u001b[0m \u001b[0mval\u001b[0m\u001b[1;33m,\u001b[0m \u001b[0mcount\u001b[0m \u001b[1;32min\u001b[0m \u001b[0mzip\u001b[0m\u001b[1;33m(\u001b[0m\u001b[0munique_vals\u001b[0m\u001b[1;33m,\u001b[0m \u001b[0munique_counts\u001b[0m\u001b[1;33m)\u001b[0m\u001b[1;33m:\u001b[0m\u001b[1;33m\u001b[0m\u001b[1;33m\u001b[0m\u001b[0m\n\u001b[1;32m--> 119\u001b[1;33m                 \u001b[0mself\u001b[0m\u001b[1;33m.\u001b[0m\u001b[0mweights\u001b[0m\u001b[1;33m[\u001b[0m\u001b[0mi\u001b[0m\u001b[1;33m]\u001b[0m\u001b[1;33m[\u001b[0m\u001b[0mval\u001b[0m\u001b[1;33m]\u001b[0m \u001b[1;33m+=\u001b[0m \u001b[0mweights_vals\u001b[0m\u001b[1;33m[\u001b[0m\u001b[0mID_i\u001b[0m \u001b[1;33m==\u001b[0m \u001b[0mval\u001b[0m\u001b[1;33m]\u001b[0m\u001b[1;33m.\u001b[0m\u001b[0msum\u001b[0m\u001b[1;33m(\u001b[0m\u001b[1;33m)\u001b[0m\u001b[1;33m\u001b[0m\u001b[1;33m\u001b[0m\u001b[0m\n\u001b[0m\u001b[0;32m    120\u001b[0m             \u001b[0mself\u001b[0m\u001b[1;33m.\u001b[0m\u001b[0mcounts\u001b[0m\u001b[1;33m[\u001b[0m\u001b[0mi\u001b[0m\u001b[1;33m,\u001b[0m \u001b[0munique_vals\u001b[0m\u001b[1;33m.\u001b[0m\u001b[0mlong\u001b[0m\u001b[1;33m(\u001b[0m\u001b[1;33m)\u001b[0m\u001b[1;33m]\u001b[0m \u001b[1;33m+=\u001b[0m \u001b[0munique_counts\u001b[0m\u001b[1;33m\u001b[0m\u001b[1;33m\u001b[0m\u001b[0m\n\u001b[0;32m    121\u001b[0m \u001b[1;33m\u001b[0m\u001b[0m\n",
      "\u001b[1;31mRuntimeError\u001b[0m: result type ComplexFloat can't be cast to the desired output type Float"
     ]
    }
   ],
   "source": [
    "vegas = VEGAS()\n",
    "result = vegas.integrate(f,dim=1,N=101,integration_domain=integration_domain)\n",
    "print_error(result,solution)"
   ]
  },
  {
   "cell_type": "code",
   "execution_count": null,
   "id": "308108d3",
   "metadata": {},
   "outputs": [],
   "source": []
  }
 ],
 "metadata": {
  "kernelspec": {
   "display_name": "Python 3",
   "language": "python",
   "name": "python3"
  },
  "language_info": {
   "codemirror_mode": {
    "name": "ipython",
    "version": 3
   },
   "file_extension": ".py",
   "mimetype": "text/x-python",
   "name": "python",
   "nbconvert_exporter": "python",
   "pygments_lexer": "ipython3",
   "version": "3.8.6"
  }
 },
 "nbformat": 4,
 "nbformat_minor": 5
}
