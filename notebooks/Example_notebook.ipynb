{
 "cells": [
  {
   "cell_type": "markdown",
   "metadata": {},
   "source": [
    "# torchquad - Example Notebook"
   ]
  },
  {
   "cell_type": "markdown",
   "metadata": {},
   "source": [
    "torchquad is a dedicated module for numerical integration in arbitrary dimensions.\n",
    "\n",
    "This notebook gives more detailed look at its functionality and explores some performance considerations as well."
   ]
  },
  {
   "cell_type": "markdown",
   "metadata": {},
   "source": [
    "The main problem with higher-dimensional numerical integration is that the computation simply becomes too costly if *n* is large as the number of evaluation points increases exponentially &#151; this problem is known as the *curse of dimensionality*. This especially affects grid-based methods, but is - to some degree- also present for Monte Carlo methods, which also require larger numbers of points for convergence in higher dimensions. \n",
    "\n",
    "At this time, torchquad offers the following integration methods for abritrary dimensionality."
   ]
  },
  {
   "cell_type": "markdown",
   "metadata": {},
   "source": [
    "| Common name        | How it works                                                      | Spacing |\n",
    "|--------------------|-------------------------------------------------------------------|---------|\n",
    "| Trapezoid rule     | Creates a linear interpolant between two neighbouring points      | Equal   |\n",
    "| Simpson's rule     | Creates a quadratic interpolant between three neighbouring points | Equal   |\n",
    "| Monte Carlo        | Randomly chooses points at which the integrand is evaluated       | Random  |"
   ]
  },
  {
   "cell_type": "markdown",
   "metadata": {},
   "source": [
    "### Outline \n",
    "This notebook is a guide for new users to torchquad and is structured in the following way:\n",
    "\n",
    "* Example integration using Monte Carlo integration in one dimension (1-D)  \n",
    "* Example integration in five dimensions (10-D)  \n",
    "* Some accuracy / runtime comparisons with `scipy`"
   ]
  },
  {
   "cell_type": "markdown",
   "metadata": {},
   "source": [
    "## Imports\n",
    "Now let's get started! First, the general imports:"
   ]
  },
  {
   "cell_type": "code",
   "execution_count": null,
   "metadata": {},
   "outputs": [],
   "source": [
    "import scipy\n",
    "\n",
    "#For plotting\n",
    "import matplotlib.pyplot as plt\n",
    "\n",
    "# To avoid copying things to GPU memory, \n",
    "# ideally allocate everything in torch on the GPU\n",
    "# and avoid non torch function calls\n",
    "import torch\n",
    "torch.set_printoptions(precision=10) # Set displayed output precision to 10 digits\n",
    "\n",
    "from torchquad import enable_cuda #necessary to enable GPU support\n",
    "from torchquad import MonteCarlo, Trapezoid, Simpson # The integrators we will use\n",
    "import torchquad"
   ]
  },
  {
   "cell_type": "code",
   "execution_count": null,
   "metadata": {},
   "outputs": [],
   "source": [
    "enable_cuda() #Use this to enable GPU support. "
   ]
  },
  {
   "cell_type": "markdown",
   "metadata": {},
   "source": [
    "## One dimensional integration\n",
    "\n",
    "For clarity on the methods used in this notebook, we will start with two examples in one dimension. See [Patrick Walls][1]' nice Python introduction to the [Trapezoid rule][2] and [Simpson's rule][3] in one dimension. \n",
    "\n",
    "Let `f` be the function $ f(x) = e^x \\cdot x^2 $\n",
    "Over the domain $[0,2]$, the integral of `f` is $\\int_{0}^{2} e^x \\cdot x^2 \\,dx = 2(e^2-1) = 12.7781121978613004544... $.  \n",
    "\n",
    "[1]: https://github.com/patrickwalls\n",
    "[2]: https://www.math.ubc.ca/~pwalls/math-python/integration/trapezoid-rule/\n",
    "[3]: https://www.math.ubc.ca/~pwalls/math-python/integration/simpsons-rule/\n",
    "\n",
    "Let's declare the function, remember the correct result and a simple function to print the absolute error."
   ]
  },
  {
   "cell_type": "code",
   "execution_count": null,
   "metadata": {},
   "outputs": [],
   "source": [
    "def f(x):\n",
    "    return torch.exp(x) * torch.pow(x,2)\n",
    "\n",
    "def print_error(result,solution):\n",
    "    print(\"Results:\",result)\n",
    "    print(\"Abs. Error:\",torch.abs(result - solution))\n",
    "\n",
    "solution = 2*(torch.exp(torch.tensor([2.]))-1)"
   ]
  },
  {
   "cell_type": "markdown",
   "metadata": {},
   "source": [
    "**Note that we are using the torch versions to ensure that all variables are and stay on the GPU.**\n",
    "\n",
    "Let's plot the function briefly."
   ]
  },
  {
   "cell_type": "code",
   "execution_count": null,
   "metadata": {},
   "outputs": [],
   "source": [
    "points = torch.linspace(0,2,100)\n",
    "plt.plot(points.cpu(),f(points).cpu()) #Note that for plotting we have to move the values to the CPU first"
   ]
  },
  {
   "cell_type": "markdown",
   "metadata": {},
   "source": [
    "Let's define the integration domain now and initialize the integrator."
   ]
  },
  {
   "cell_type": "code",
   "execution_count": null,
   "metadata": {},
   "outputs": [],
   "source": [
    "integration_domain = [[0, 2]] #Integration domain always is a list of lists to allow arbitrary dimensionality.\n",
    "tp = Trapezoid()  #Initialize a trapezoid solver"
   ]
  },
  {
   "cell_type": "markdown",
   "metadata": {},
   "source": [
    "Now we are all set to compute the integral. Let's try it with just 11 sample points for now."
   ]
  },
  {
   "cell_type": "code",
   "execution_count": null,
   "metadata": {},
   "outputs": [],
   "source": [
    "result = tp.integrate(f, dim=1, N=101, integration_domain=integration_domain)\n",
    "print_error(result,solution)"
   ]
  },
  {
   "cell_type": "markdown",
   "metadata": {},
   "source": [
    "Alright, quite close already as 1-D integrals are comparatively easy. Let's see what type of value we get for different integrators."
   ]
  },
  {
   "cell_type": "code",
   "execution_count": null,
   "metadata": {},
   "outputs": [],
   "source": [
    "simp = Simpson()\n",
    "result = simp.integrate(f, dim=1, N=101, integration_domain=integration_domain)\n",
    "print_error(result,solution)"
   ]
  },
  {
   "cell_type": "code",
   "execution_count": null,
   "metadata": {},
   "outputs": [],
   "source": [
    "mc = MonteCarlo()\n",
    "result = mc.integrate(f, dim=1, N=101, integration_domain=integration_domain)\n",
    "print_error(result,solution)"
   ]
  },
  {
   "cell_type": "markdown",
   "metadata": {},
   "source": [
    "Notably, Simpson's method is already sufficient for a perfect solutiuon here with 101 points. Monte Carlo does not perform so well, it is more suited to higher dimensional integrals as we will see.\n",
    "\n",
    "Note that we picked 101 points as the implemented Simpson's method currently only supports odd numbers of points. Let's step things up now and move to a 10-dimensional problem.\n",
    "\n",
    "## High-dimensional integration\n",
    "\n",
    "For this we will investigate the following: \n",
    "\n",
    "Let `f_2` be the function $ f_2(x) = \\sum_{i=1}^{10} sin(x_i) $\n",
    "\n",
    "Over the domain $[0,1]^{10}$, the integral of `f_2` is $\\int_{0}^{1}...\\int_{0}^{1} \\sum_{i=1}^{10} sin(x_i) = 20sin^2(1/2) = 4.59697694131860282599063392557... $.  \n",
    "\n",
    "Plotting this is tricky, so let's directly move to the integrals."
   ]
  },
  {
   "cell_type": "code",
   "execution_count": null,
   "metadata": {},
   "outputs": [],
   "source": [
    "def f_2(x):\n",
    "    return torch.sum(torch.sin(x),dim=1)\n",
    "\n",
    "solution = 20*(torch.sin(torch.tensor([0.5]))*torch.sin(torch.tensor([0.5])))"
   ]
  },
  {
   "cell_type": "markdown",
   "metadata": {},
   "source": [
    "Let's start with just 5 points per dimension, i.e. $5^10=9,765,625$ points. You can see the curse of dimensionality fully at play here. \n",
    "\n",
    "*N.B. Currently, torchquad only support equal numbers of points per dimension. We are on it.*"
   ]
  },
  {
   "cell_type": "code",
   "execution_count": null,
   "metadata": {},
   "outputs": [],
   "source": [
    "integration_domain = [[0, 1]]*10 #Integration domain always is a list of lists to allow arbitrary dimensionality.\n",
    "N = 5**10 "
   ]
  },
  {
   "cell_type": "code",
   "execution_count": null,
   "metadata": {},
   "outputs": [],
   "source": [
    "tp = Trapezoid()  #Initialize a trapezoid solver\n",
    "result = tp.integrate(f_2, dim=10, N=N, integration_domain=integration_domain)\n",
    "print_error(result,solution)"
   ]
  },
  {
   "cell_type": "code",
   "execution_count": null,
   "metadata": {},
   "outputs": [],
   "source": [
    "simp = Simpson()  #Initialize a trapezoid solver\n",
    "result = simp.integrate(f_2, dim=10, N=N, integration_domain=integration_domain)\n",
    "print_error(result,solution)"
   ]
  },
  {
   "cell_type": "code",
   "execution_count": null,
   "metadata": {},
   "outputs": [],
   "source": [
    "mc = MonteCarlo()\n",
    "result = mc.integrate(f_2, dim=10, N=N, integration_domain=integration_domain)\n",
    "print_error(result,solution)"
   ]
  },
  {
   "cell_type": "markdown",
   "metadata": {},
   "source": [
    "Note that the simple Monte Carlo method is much more competitive for this case. The bad convergence properties of the trapezoid method are visible while simpson is still ok given the comparatively smooth integrand."
   ]
  },
  {
   "cell_type": "markdown",
   "metadata": {},
   "source": [
    "## Comparison with scipy\n",
    "\n",
    "Let's explore, how torchquad's performance compares to scipy the go-to tool for numerical integration. A more detailed exploration of this topic can be found in the *Evaluation_notebook.ipynb*.\n",
    "\n",
    "TODO"
   ]
  },
  {
   "cell_type": "code",
   "execution_count": null,
   "metadata": {},
   "outputs": [],
   "source": []
  }
 ],
 "metadata": {
  "kernelspec": {
   "display_name": "Python 3",
   "language": "python",
   "name": "python3"
  },
  "language_info": {
   "codemirror_mode": {
    "name": "ipython",
    "version": 3
   },
   "file_extension": ".py",
   "mimetype": "text/x-python",
   "name": "python",
   "nbconvert_exporter": "python",
   "pygments_lexer": "ipython3",
   "version": "3.8.6"
  }
 },
 "nbformat": 4,
 "nbformat_minor": 2
}
