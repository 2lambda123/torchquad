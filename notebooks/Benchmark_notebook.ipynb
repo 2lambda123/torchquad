{
 "cells": [
  {
   "cell_type": "code",
   "execution_count": null,
   "metadata": {},
   "outputs": [],
   "source": [
    "from scipy.integrate import simps,trapz\n",
    "import quadpy\n",
    "import numpy as np\n",
    "import torchquad\n",
    "import torch\n",
    "from time import perf_counter\n",
    "from tqdm import tqdm\n",
    "\n",
    "# Allow changing module on the fly\n",
    "%load_ext autoreload\n",
    "%autoreload 2\n",
    "# Enable GPU usage\n",
    "torchquad.enable_cuda()\n",
    "# Set precision\n",
    "np.set_printoptions(precision=10)\n",
    "torch.set_printoptions(precision=10)\n",
    "#Define how many iterations should be done as warmup in benchmarks\n",
    "WARMUP_CALLS = 3"
   ]
  },
  {
   "cell_type": "markdown",
   "metadata": {},
   "source": [
    "### Some test functions"
   ]
  },
  {
   "cell_type": "code",
   "execution_count": null,
   "metadata": {},
   "outputs": [],
   "source": [
    "e = 2.7182818284590452353602874 #hardcoded to avoid dependence on torch / numpy\n",
    "def test_function_1d(x):\n",
    "    \"\"\" As a test function in 1D we use e^x\n",
    "    \"\"\"\n",
    "    return e**x\n",
    "\n",
    "def test_function_3d(x):\n",
    "    \"\"\" As a test function in 3D we use the sum over e^(x) for each dim\n",
    "    \"\"\"\n",
    "    return e**x[:,0] + e**x[:,1] + e**x[:,2]\n",
    "\n",
    "def test_function_3d_quadpy(x):\n",
    "    \"\"\" Same func as above but - for quadpy usage - with transposed dimensions\n",
    "    \"\"\"\n",
    "    return e**x[0,:] + e**x[1,:] + e**x[2,:]\n",
    "\n",
    "# Integration domains for the functions we use\n",
    "test_domain_1d = [[0,1]]\n",
    "test_domain_3d = [[0,5],[1,3],[-2,2]]\n",
    "\n",
    "# Ground-truth solutions to compare to\n",
    "ground_truth_1d = e - 1\n",
    "ground_truth_3d = 1599.18758287212565283365376364"
   ]
  },
  {
   "cell_type": "markdown",
   "metadata": {},
   "source": [
    "### Wrappers for all integrators"
   ]
  },
  {
   "cell_type": "code",
   "execution_count": null,
   "metadata": {},
   "outputs": [],
   "source": [
    "def scipy_trapezoid_1d(fn,dim,N,domain):\n",
    "    \"\"\"Wrapper for scipy trapezoid method, creates grid as well\n",
    "    \"\"\"\n",
    "    eval_points = torchquad.IntegrationGrid(N,domain).points.cpu().numpy().transpose()\n",
    "    y = fn(eval_points)\n",
    "    return trapz(y,eval_points)[0]\n",
    "\n",
    "def scipy_simpsons_1d(fn,dim,N,domain):\n",
    "    \"\"\"Wrapper for scipy simpsons method, creates grid as well\n",
    "    \"\"\"\n",
    "    eval_points = torchquad.IntegrationGrid(N,domain).points.cpu().numpy().transpose()\n",
    "    y = fn(eval_points)\n",
    "    return simps(y,eval_points)[0]\n",
    "\n",
    "\n",
    "def _quadpy_helper(N,domain):\n",
    "    \"\"\"For quadpy we need to give it the border points of each cubic integration subdomain, this functions does that\n",
    "    \"\"\"\n",
    "    \n",
    "    #Create the integration points\n",
    "    grid = torchquad.IntegrationGrid(N,domain)\n",
    "    _N = grid._N #get points per dimension\n",
    "    eval_points = grid.points.cpu().numpy() #get integration points\n",
    "\n",
    "    # Discard all points that are unneeded to specify cubes on the grid (3 per cube needed instead of 8 available)\n",
    "    cube_lower = eval_points[:-_N**2] #create two arrays with offset\n",
    "    cube_higher = eval_points[_N**2:]\n",
    "    z_mask = cube_lower[:,2] != domain[2][1] # for lower z discard points at high end of boundary\n",
    "    cube_lower = cube_lower[z_mask]\n",
    "    z_mask = cube_higher[:,2] != domain[2][0] # for higher z discard points at low end of boundary\n",
    "    cube_higher = cube_higher[z_mask]\n",
    "    y_mask = cube_lower[:,1] != domain[1][1] # as above but for y \n",
    "    cube_lower = cube_lower[y_mask]\n",
    "    y_mask = cube_higher[:,1] != domain[1][0] # as above but for y \n",
    "    cube_higher = cube_higher[y_mask]\n",
    "    \n",
    "    x_dims = np.vstack([cube_lower[:,0],cube_higher[:,0]]).T # X coordinates\n",
    "    y_dims = np.vstack([cube_lower[:,1],cube_higher[:,1]]).T # Y coordinates\n",
    "    z_dims = np.vstack([cube_lower[:,2],cube_higher[:,2]]).T # Z coordinates\n",
    "    \n",
    "    cubes = []\n",
    "    \n",
    "    #Collect all cubes\n",
    "    for x,y,z in zip(x_dims,y_dims,z_dims):\n",
    "        cubes.append(quadpy.c3.cube_points(x,y,z))\n",
    "    cubes = np.stack(cubes,axis=-2)\n",
    "    \n",
    "    return cubes\n",
    "\n",
    "def quadpy_trapezoid_3d(fn,dim,N,domain):\n",
    "    \"\"\"3D trapezoid using quadpy, note that it will perform 8*N evals\n",
    "    \"\"\"\n",
    "    cubes = _quadpy_helper(N,domain)\n",
    "#     plot_cubes(cubes)\n",
    "    scheme = quadpy.c3.product(quadpy.c1.newton_cotes_closed(1))\n",
    "    val = scheme.integrate(fn,cubes)\n",
    "    return 0.5*sum(val) #this 0.5 is very odd because it implies that we integrate each domain twice, however we don't?\n",
    "\n",
    "def quadpy_simpson_3d(fn,dim,N,domain):\n",
    "    \"\"\"3D simpsons using quadpy, note that it will perform 27*N evals\n",
    "    \"\"\"\n",
    "    cubes = _quadpy_helper(N,domain)\n",
    "#     plot_cubes(cubes)\n",
    "    scheme = quadpy.c3.product(quadpy.c1.newton_cotes_closed(2))\n",
    "    val = scheme.integrate(fn,cubes)\n",
    "    return 0.5*sum(val) #this 0.5 is very odd because it implies that we integrate each domain twice, however we don't?\n",
    "    \n",
    "def torchquad_trapezoid(fn,dim,N,domain):\n",
    "    \"\"\"Wrapper for scipy simpsons method, creates grid as well\n",
    "    \"\"\"\n",
    "    tp = torchquad.Trapezoid()\n",
    "    return tp.integrate(fn,dim,N,domain).item()\n",
    "    \n",
    "def torchquad_simpsons(fn,dim,N,domain):\n",
    "    \"\"\"Wrapper for scipy simpsons method, creates grid as well\n",
    "    \"\"\"\n",
    "    sp = torchquad.Simpson()\n",
    "    return sp.integrate(fn,dim,N,domain).item()"
   ]
  },
  {
   "cell_type": "markdown",
   "metadata": {},
   "source": [
    "### Benchmarking utils"
   ]
  },
  {
   "cell_type": "code",
   "execution_count": null,
   "metadata": {},
   "outputs": [],
   "source": [
    "def evaluate(integrator,fn,dim,N,domain):\n",
    "    \"\"\"Evaluates given integrator and returns result and runtime\n",
    "    \"\"\"\n",
    "    start = perf_counter()\n",
    "    result = integrator(fn,dim,N,domain)\n",
    "    time = perf_counter() - start\n",
    "    return result,time\n",
    "\n",
    "def benchmark(integrator,fn,dim,N,domain, iterations=10):\n",
    "    \"\"\" Evaluates given Integrator once as warmup, then #iterations times\n",
    "    \"\"\"\n",
    "    results,times = [],[]\n",
    "    #Do three calls as warmup (to allow CPU / GPU to use caching and increase frequency)\n",
    "    for i in range(WARMUP_CALLS): \n",
    "        evaluate(integrator,fn,dim,N,domain)\n",
    "    #Do iteration benchmark calls\n",
    "    for it in range(iterations):\n",
    "        result,time = evaluate(integrator,fn,dim,N,domain)\n",
    "        results.append(result)\n",
    "        times.append(time)\n",
    "    return results,times"
   ]
  },
  {
   "cell_type": "markdown",
   "metadata": {},
   "source": [
    "### Compute all runtimes and results for 1D example"
   ]
  },
  {
   "cell_type": "code",
   "execution_count": null,
   "metadata": {},
   "outputs": [],
   "source": [
    "# Select precision: Default it is float32 , can be set to double with this\n",
    "torch.set_default_tensor_type(torch.DoubleTensor)"
   ]
  },
  {
   "cell_type": "code",
   "execution_count": null,
   "metadata": {},
   "outputs": [],
   "source": [
    "methods = [scipy_trapezoid_1d,scipy_simpsons_1d,torchquad_trapezoid,torchquad_simpsons]\n",
    "values, times, names, steps_per_method = [],[],[],[]\n",
    "steps = 2**np.linspace(1,20,20) + 1\n",
    "for method in methods:\n",
    "    cur_values,cur_time = [],[]\n",
    "    for step in tqdm(steps):\n",
    "        vals,time_measuresments = benchmark(method,test_function_1d,1,int(step),test_domain_1d)\n",
    "        cur_values.append(vals[0]) # All methods are deterministic, so we just take one value\n",
    "        cur_time.append(np.mean(time_measuresments)) # For time take the mean\n",
    "    names.append(method.__name__)\n",
    "    steps_per_method.append(steps)\n",
    "    values.append(cur_values)\n",
    "    times.append(cur_time)"
   ]
  },
  {
   "cell_type": "code",
   "execution_count": null,
   "metadata": {},
   "outputs": [],
   "source": [
    "torchquad.plot_convergence(steps_per_method,values,ground_truth_1d,names)"
   ]
  },
  {
   "cell_type": "code",
   "execution_count": null,
   "metadata": {},
   "outputs": [],
   "source": [
    "torchquad.plot_runtime(steps_per_method,times,names)"
   ]
  },
  {
   "cell_type": "markdown",
   "metadata": {},
   "source": [
    "### Compute runtimes and results for the 3D example"
   ]
  },
  {
   "cell_type": "code",
   "execution_count": null,
   "metadata": {},
   "outputs": [],
   "source": [
    "methods = [quadpy_trapezoid_3d,quadpy_simpson_3d,torchquad_trapezoid,torchquad_simpsons]\n",
    "values, times, names, steps_per_method = [],[],[],[]\n",
    "steps = np.asarray([3,7,11,15,19])**3\n",
    "for method in methods:\n",
    "    cur_values,cur_time = [],[]\n",
    "    for step in tqdm(steps):\n",
    "        if method in [quadpy_trapezoid_3d,quadpy_simpson_3d]:\n",
    "            vals,time_measuresments = benchmark(method,test_function_3d_quadpy,3,int(step),test_domain_3d)\n",
    "        else:\n",
    "            vals,time_measuresments = benchmark(method,test_function_3d,3,int(step),test_domain_3d)\n",
    "        cur_values.append(vals[0]) # All methods are deterministic, so we just take one value\n",
    "        cur_time.append(np.mean(time_measuresments)) # For time take the mean\n",
    "    names.append(method.__name__)\n",
    "    #correct for extra evals that quadpy performs\n",
    "    if method is quadpy_trapezoid_3d: \n",
    "        steps = steps * 8\n",
    "    if method is quadpy_simpson_3d:\n",
    "        steps = steps * 27\n",
    "    steps_per_method.append(steps)\n",
    "    values.append(cur_values)\n",
    "    times.append(cur_time)"
   ]
  },
  {
   "cell_type": "code",
   "execution_count": null,
   "metadata": {},
   "outputs": [],
   "source": [
    "torchquad.plot_convergence(steps_per_method,values,ground_truth_3d,names)"
   ]
  },
  {
   "cell_type": "code",
   "execution_count": null,
   "metadata": {},
   "outputs": [],
   "source": [
    "torchquad.plot_runtime(steps_per_method,times,names)"
   ]
  },
  {
   "cell_type": "code",
   "execution_count": null,
   "metadata": {},
   "outputs": [],
   "source": [
    "import matplotlib.pyplot as plt\n",
    "def plot_cubes(cubes):\n",
    "    points = cubes.reshape([-1,3])\n",
    "    fig = plt.figure()\n",
    "    ax = fig.add_subplot(111, projection='3d')\n",
    "    ax.scatter(points[:, 0],\n",
    "               points[:, 1],\n",
    "               points[:, 2])"
   ]
  }
 ],
 "metadata": {
  "kernelspec": {
   "display_name": "Python 3",
   "language": "python",
   "name": "python3"
  },
  "language_info": {
   "codemirror_mode": {
    "name": "ipython",
    "version": 3
   },
   "file_extension": ".py",
   "mimetype": "text/x-python",
   "name": "python",
   "nbconvert_exporter": "python",
   "pygments_lexer": "ipython3",
   "version": "3.8.6"
  }
 },
 "nbformat": 4,
 "nbformat_minor": 4
}
