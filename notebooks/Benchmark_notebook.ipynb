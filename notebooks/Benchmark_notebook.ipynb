{
 "cells": [
  {
   "cell_type": "markdown",
   "metadata": {},
   "source": [
    "# Benchmark notebook\n",
    "\n",
    "This notebook contains some code for benchmarking torchquad. It is currently a work in progress and results are not yet representative of the used libraries.\n",
    "\n",
    "We will investigate performance on $e^x$ in one and three dimensions. "
   ]
  },
  {
   "cell_type": "code",
   "execution_count": null,
   "metadata": {},
   "outputs": [],
   "source": [
    "# Import all the things we need\n",
    "from scipy.integrate import simps,trapz\n",
    "import quadpy\n",
    "import numpy as np\n",
    "import torchquad\n",
    "import torch\n",
    "from time import perf_counter\n",
    "from tqdm import tqdm\n",
    "\n",
    "# Allow changing modules on the fly, this reloads them automatically if changed\n",
    "%load_ext autoreload\n",
    "%autoreload 2\n",
    "# Enable GPU usage\n",
    "torchquad.enable_cuda()\n",
    "# Set precision for printing\n",
    "np.set_printoptions(precision=10)\n",
    "torch.set_printoptions(precision=10)\n",
    "#Define how many iterations should be done as warmup in benchmarks (CPU / GPU may have to increase freq etc.)\n",
    "WARMUP_CALLS = 3"
   ]
  },
  {
   "cell_type": "markdown",
   "metadata": {},
   "source": [
    "### Some test functions\n",
    "\n",
    "We will now define our test functions, domains and ground truth. Note that we define a separate 3D function for quadpy as it sorts dimensions differently than we do."
   ]
  },
  {
   "cell_type": "code",
   "execution_count": null,
   "metadata": {},
   "outputs": [],
   "source": [
    "e = 2.7182818284590452353602874 #hardcoded to avoid dependence on torch / numpy\n",
    "def test_function_1d(x):\n",
    "    \"\"\" As a test function in 1D we use e^x\n",
    "    \"\"\"\n",
    "    return e**x\n",
    "\n",
    "def test_function_3d(x):\n",
    "    \"\"\" As a test function in 3D we use the sum over e^(x) for each dim\n",
    "    \"\"\"\n",
    "    return e**x[:,0] + e**x[:,1] + e**x[:,2]\n",
    "\n",
    "def test_function_3d_quadpy(x):\n",
    "    \"\"\" Same func as above but - for quadpy usage - with transposed dimensions\n",
    "    \"\"\"\n",
    "    return e**x[0,:] + e**x[1,:] + e**x[2,:]\n",
    "\n",
    "# Integration domains for the functions we use\n",
    "test_domain_1d = [[0,1]]\n",
    "test_domain_3d = [[0,5],[1,3],[-2,2]]\n",
    "\n",
    "# Ground-truth solutions to compare to\n",
    "ground_truth_1d = e - 1\n",
    "ground_truth_3d = 1599.18758287212565283365376364"
   ]
  },
  {
   "cell_type": "markdown",
   "metadata": {},
   "source": [
    "### Wrappers for all integrators\n",
    "\n",
    "We will now define wrappers for the integrations to allow us to use the same benchmarking code to call all of them.\n",
    "\n",
    "Notice that we use torchquad's `IntegrationGrid` class for all integrations. The reasoning is that the grid creation is overhead (and not handled by scipy or quadpy at all) that should, in this way, be the same for all libraries. \n",
    "\n",
    "Furthermore note that quadpy does not provide explicit code for the domain subdivisions. Hence we implement `_quadpy_helper` for this task."
   ]
  },
  {
   "cell_type": "code",
   "execution_count": null,
   "metadata": {},
   "outputs": [],
   "source": [
    "def scipy_trapezoid_1d(fn,dim,N,domain):\n",
    "    \"\"\"Wrapper for scipy trapezoid method, creates grid as well\n",
    "    \"\"\"\n",
    "    eval_points = torchquad.IntegrationGrid(N,domain).points.cpu().numpy().transpose()\n",
    "    y = fn(eval_points)\n",
    "    return trapz(y,eval_points)[0]\n",
    "\n",
    "def scipy_simpsons_1d(fn,dim,N,domain):\n",
    "    \"\"\"Wrapper for scipy simpsons method, creates grid as well\n",
    "    \"\"\"\n",
    "    eval_points = torchquad.IntegrationGrid(N,domain).points.cpu().numpy().transpose()\n",
    "    y = fn(eval_points)\n",
    "    return simps(y,eval_points)[0]\n",
    "\n",
    "\n",
    "def _quadpy_helper(N,domain):\n",
    "    \"\"\"For quadpy we need to give it the border points of each cubic integration subdomain, this functions computes that. \n",
    "    Only works for 3D at the moment.\n",
    "    \"\"\"\n",
    "    \n",
    "    #Create the integration points\n",
    "    grid = torchquad.IntegrationGrid(N,domain)\n",
    "    _N = grid._N #get points per dimension\n",
    "    eval_points = grid.points.cpu().numpy() #get integration points\n",
    "\n",
    "    # Discard all points that are unneeded to specify cubes on the grid (3 per cube needed instead of 8 available)\n",
    "    cube_lower = eval_points[:-_N**2] #create two arrays with offset\n",
    "    cube_higher = eval_points[_N**2:]\n",
    "    z_mask = cube_lower[:,2] != domain[2][1] # for lower z discard points at high end of boundary\n",
    "    cube_lower = cube_lower[z_mask]\n",
    "    z_mask = cube_higher[:,2] != domain[2][0] # for higher z discard points at low end of boundary\n",
    "    cube_higher = cube_higher[z_mask]\n",
    "    y_mask = cube_lower[:,1] != domain[1][1] # as above but for y \n",
    "    cube_lower = cube_lower[y_mask]\n",
    "    y_mask = cube_higher[:,1] != domain[1][0] # as above but for y \n",
    "    cube_higher = cube_higher[y_mask]\n",
    "    \n",
    "    x_dims = np.vstack([cube_lower[:,0],cube_higher[:,0]]).T # X coordinates\n",
    "    y_dims = np.vstack([cube_lower[:,1],cube_higher[:,1]]).T # Y coordinates\n",
    "    z_dims = np.vstack([cube_lower[:,2],cube_higher[:,2]]).T # Z coordinates\n",
    "    \n",
    "    cubes = []\n",
    "    \n",
    "    #Collect all cubes\n",
    "    for x,y,z in zip(x_dims,y_dims,z_dims):\n",
    "        cubes.append(quadpy.c3.cube_points(x,y,z))\n",
    "    cubes = np.stack(cubes,axis=-2)\n",
    "    \n",
    "    return cubes\n",
    "\n",
    "def quadpy_trapezoid_3d(fn,dim,N,domain):\n",
    "    \"\"\"3D trapezoid using quadpy, note that it will perform 8*N evals\n",
    "    \"\"\"\n",
    "    cubes = _quadpy_helper(N,domain)\n",
    "#     plot_cubes(cubes)\n",
    "    scheme = quadpy.c3.product(quadpy.c1.newton_cotes_closed(1))\n",
    "    val = scheme.integrate(fn,cubes)\n",
    "    return 0.5*sum(val) #this 0.5 is very odd because it implies that we integrate each domain twice, however we don't?\n",
    "\n",
    "def quadpy_simpson_3d(fn,dim,N,domain):\n",
    "    \"\"\"3D simpsons using quadpy, note that it will perform 27*N evals\n",
    "    \"\"\"\n",
    "    cubes = _quadpy_helper(N,domain)\n",
    "#     plot_cubes(cubes)\n",
    "    scheme = quadpy.c3.product(quadpy.c1.newton_cotes_closed(2))\n",
    "    val = scheme.integrate(fn,cubes)\n",
    "    return 0.5*sum(val) #this 0.5 is very odd because it implies that we integrate each domain twice, however we don't?\n",
    "    \n",
    "def torchquad_trapezoid(fn,dim,N,domain):\n",
    "    \"\"\"Wrapper for scipy simpsons method, creates grid as well\n",
    "    \"\"\"\n",
    "    tp = torchquad.Trapezoid()\n",
    "    return tp.integrate(fn,dim,N,domain).item()\n",
    "    \n",
    "def torchquad_simpsons(fn,dim,N,domain):\n",
    "    \"\"\"Wrapper for scipy simpsons method, creates grid as well\n",
    "    \"\"\"\n",
    "    sp = torchquad.Simpson()\n",
    "    return sp.integrate(fn,dim,N,domain).item()"
   ]
  },
  {
   "cell_type": "markdown",
   "metadata": {},
   "source": [
    "### Benchmarking utils\n",
    "\n",
    "Now, we define a function to perform one integration and measure time, `evaluate` and one function, `benchmark`, which calls `evaluate` multiple times after some warmup calls. "
   ]
  },
  {
   "cell_type": "code",
   "execution_count": null,
   "metadata": {},
   "outputs": [],
   "source": [
    "def evaluate(integrator,fn,dim,N,domain):\n",
    "    \"\"\"Evaluates given integrator and returns result and runtime\n",
    "    \"\"\"\n",
    "    start = perf_counter()\n",
    "    result = integrator(fn,dim,N,domain)\n",
    "    time = perf_counter() - start\n",
    "    return result,time\n",
    "\n",
    "def benchmark(integrator,fn,dim,N,domain, iterations=10):\n",
    "    \"\"\" Evaluates given Integrator once as warmup, then #iterations times\n",
    "    \"\"\"\n",
    "    results,times = [],[]\n",
    "    #Do three calls as warmup (to allow CPU / GPU to use caching and increase frequency)\n",
    "    for i in range(WARMUP_CALLS): \n",
    "        evaluate(integrator,fn,dim,N,domain)\n",
    "    #Do iteration benchmark calls\n",
    "    for it in range(iterations):\n",
    "        result,time = evaluate(integrator,fn,dim,N,domain)\n",
    "        results.append(result)\n",
    "        times.append(time)\n",
    "    return results,times"
   ]
  },
  {
   "cell_type": "markdown",
   "metadata": {},
   "source": [
    "### Compute all runtimes and results for 1D example\n",
    "\n",
    "We will now evaluate our 1D example. Note that with below cell you can switch to double precision. With float / single you should expect errors to converge to only ~1e-7. For very large numbers of grid points, the small mesh width may introduce bigger errors.\n",
    "\n",
    "For this example we will compare the trapezoid and simpsons implementations of torchquad and scipy respectively."
   ]
  },
  {
   "cell_type": "code",
   "execution_count": null,
   "metadata": {},
   "outputs": [],
   "source": [
    "# Select precision: Default it is float32 GPU , can be set to double GPU or CPU with this\n",
    "torch.set_default_tensor_type(torch.cuda.DoubleTensor) # GPU\n",
    "# torch.set_default_tensor_type(torch.DoubleTensor) # CPU\n",
    "# torch.set_default_tensor_type(torch.cuda.FloatTensor) # GPU"
   ]
  },
  {
   "cell_type": "code",
   "execution_count": null,
   "metadata": {},
   "outputs": [],
   "source": [
    "# Define methods to benchmark\n",
    "methods = [scipy_trapezoid_1d,scipy_simpsons_1d,torchquad_trapezoid,torchquad_simpsons]\n",
    "\n",
    "# Arrays to store results\n",
    "values, times, names, steps_per_method = [],[],[],[]\n",
    "\n",
    "# Numbers of evals / integration points to test\n",
    "steps = 2**np.linspace(1,25,25) + 1\n",
    "for method in methods:\n",
    "    cur_values,cur_time = [],[]\n",
    "    for step in tqdm(steps):\n",
    "        vals,time_measuresments = benchmark(method,test_function_1d,1,int(step),test_domain_1d)\n",
    "        cur_values.append(vals[0]) # All methods are deterministic, so we just take one value\n",
    "        cur_time.append(np.mean(time_measuresments)) # For time take the mean\n",
    "    names.append(method.__name__)\n",
    "    steps_per_method.append(steps)\n",
    "    values.append(cur_values)\n",
    "    times.append(cur_time)"
   ]
  },
  {
   "cell_type": "code",
   "execution_count": null,
   "metadata": {},
   "outputs": [],
   "source": [
    "torchquad.plot_convergence(steps_per_method,values,ground_truth_1d,names)"
   ]
  },
  {
   "cell_type": "code",
   "execution_count": null,
   "metadata": {},
   "outputs": [],
   "source": [
    "torchquad.plot_runtime(steps_per_method,times,names)"
   ]
  },
  {
   "cell_type": "markdown",
   "metadata": {},
   "source": [
    "### Compute runtimes and results for the 3D example\n",
    "\n",
    "We will now evaluate the 3D example. This time using quadpy (scipy is not very accessible for > 1D) as a comparison. This problem should already be much more suitable to torchquad. Note that for the time being steps between quadpy and torchquad don't match up perfectly and there is some bug in the quadpy calls which makes us evaluate it twice. Will need further debugging before being reliable."
   ]
  },
  {
   "cell_type": "code",
   "execution_count": null,
   "metadata": {},
   "outputs": [],
   "source": [
    "# Define methods to benchmark\n",
    "methods = [quadpy_trapezoid_3d,quadpy_simpson_3d,torchquad_trapezoid,torchquad_simpsons]\n",
    "\n",
    "# Arrays to store results\n",
    "values, times, names, steps_per_method = [],[],[],[]\n",
    "\n",
    "# Numbers of evals / integration points to test\n",
    "steps = np.asarray([3,5,7,9,11,15])**3\n",
    "for method in methods:\n",
    "    cur_values,cur_time = [],[]\n",
    "    for step in tqdm(steps):\n",
    "        if method in [quadpy_trapezoid_3d,quadpy_simpson_3d]:\n",
    "            vals,time_measuresments = benchmark(method,test_function_3d_quadpy,3,int(step),test_domain_3d)\n",
    "        else:\n",
    "            vals,time_measuresments = benchmark(method,test_function_3d,3,int(step),test_domain_3d)\n",
    "        cur_values.append(vals[0]) # All methods are deterministic, so we just take one value\n",
    "        cur_time.append(np.mean(time_measuresments)) # For time take the mean\n",
    "    names.append(method.__name__)\n",
    "    #correct for extra evals that quadpy performs (it computes a trapezoid / simpsons inside each passed cube)\n",
    "    if method is quadpy_trapezoid_3d: \n",
    "        steps = steps * 8\n",
    "    if method is quadpy_simpson_3d:\n",
    "        steps = steps * 27\n",
    "    steps_per_method.append(steps)\n",
    "    values.append(cur_values)\n",
    "    times.append(cur_time)"
   ]
  },
  {
   "cell_type": "code",
   "execution_count": null,
   "metadata": {},
   "outputs": [],
   "source": [
    "torchquad.plot_convergence(steps_per_method,values,ground_truth_3d,names)"
   ]
  },
  {
   "cell_type": "code",
   "execution_count": null,
   "metadata": {},
   "outputs": [],
   "source": [
    "torchquad.plot_runtime(steps_per_method,times,names)"
   ]
  },
  {
   "cell_type": "markdown",
   "metadata": {},
   "source": [
    "# Utility functions"
   ]
  },
  {
   "cell_type": "code",
   "execution_count": null,
   "metadata": {},
   "outputs": [],
   "source": [
    "import matplotlib.pyplot as plt\n",
    "def plot_cubes(cubes):\n",
    "    \"\"\"This function can be used for debugging to plot the cubes created to quadpy\"\"\"\n",
    "    points = cubes.reshape([-1,3])\n",
    "    fig = plt.figure()\n",
    "    ax = fig.add_subplot(111, projection='3d')\n",
    "    ax.scatter(points[:, 0],\n",
    "               points[:, 1],\n",
    "               points[:, 2])"
   ]
  }
 ],
 "metadata": {
  "kernelspec": {
   "display_name": "Python 3",
   "language": "python",
   "name": "python3"
  },
  "language_info": {
   "codemirror_mode": {
    "name": "ipython",
    "version": 3
   },
   "file_extension": ".py",
   "mimetype": "text/x-python",
   "name": "python",
   "nbconvert_exporter": "python",
   "pygments_lexer": "ipython3",
   "version": "3.8.6"
  }
 },
 "nbformat": 4,
 "nbformat_minor": 4
}
