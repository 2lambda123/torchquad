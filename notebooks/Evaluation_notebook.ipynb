{
 "cells": [
  {
   "cell_type": "code",
   "execution_count": null,
   "metadata": {},
   "outputs": [],
   "source": [
    "import scipy\n",
    "from scipy.integrate import simps\n",
    "import numpy as np\n",
    "import matplotlib.pyplot as plt"
   ]
  },
  {
   "cell_type": "code",
   "execution_count": null,
   "metadata": {},
   "outputs": [],
   "source": [
    "import os,sys \n",
    "os.chdir(\"..\")"
   ]
  },
  {
   "cell_type": "code",
   "execution_count": null,
   "metadata": {},
   "outputs": [],
   "source": [
    "from torchquad.utils.benchmark_utils import _runtime_measure as runtime_measure\n",
    "from torchquad.utils.benchmark_utils import _get_integral as get_integral\n",
    "from torchquad.plots import plot_runtime as plt_rt\n",
    "from torchquad.plots import plot_convergence as plt_conv\n",
    "from torchquad.integration.monte_carlo import MonteCarlo \n",
    "from torchquad.integration.trapezoid import Trapezoid\n",
    "from torchquad.integration.simpson import Simpson\n",
    "from torchquad.utils.enable_cuda import enable_cuda\n",
    "from torchquad.tests.integration_test_functions import Polynomial, Exponential, Sinusoid\n",
    "import torch\n",
    "torch.set_default_tensor_type(torch.DoubleTensor)"
   ]
  },
  {
   "cell_type": "markdown",
   "metadata": {},
   "source": [
    "## Enable GPU usage"
   ]
  },
  {
   "cell_type": "code",
   "execution_count": null,
   "metadata": {},
   "outputs": [],
   "source": [
    "enable_cuda()"
   ]
  },
  {
   "cell_type": "markdown",
   "metadata": {},
   "source": [
    "## Set precision"
   ]
  },
  {
   "cell_type": "code",
   "execution_count": null,
   "metadata": {},
   "outputs": [],
   "source": [
    "np.set_printoptions(precision=10)\n",
    "torch.set_printoptions(precision=10)"
   ]
  },
  {
   "cell_type": "markdown",
   "metadata": {},
   "source": [
    "## Some test functions"
   ]
  },
  {
   "cell_type": "code",
   "execution_count": null,
   "metadata": {},
   "outputs": [],
   "source": [
    "def f1(x):\n",
    "    return Polynomial(coeffs=[4,0,-1], dim=1)._poly(x) #4-x^2\n",
    "\n",
    "def f2(x):\n",
    "    return Polynomial(coeffs=[1,-3,4,23,-4,1], dim=1)._poly(x)#x^5-4*x^4+23*x^3+4*x^2-3*x+1\n",
    "\n",
    "def f1_3D(x):\n",
    "    return Polynomial(coeffs=[4,0,-1], dim=3)._poly(x)\n",
    "\n",
    "def f2_3D(x):\n",
    "    return Polynomial(coeffs=[1,-3,4,23,-4,1], dim=3)._poly(x)\n"
   ]
  },
  {
   "cell_type": "markdown",
   "metadata": {},
   "source": [
    "## Selecting test function and integration method"
   ]
  },
  {
   "cell_type": "code",
   "execution_count": null,
   "metadata": {},
   "outputs": [],
   "source": [
    "f_test_dict={'f1' : f1, 'f2' : f2}\n",
    "f_test_3D_dict={'f1' : f1_3D, 'f2' : f2_3D}"
   ]
  },
  {
   "cell_type": "code",
   "execution_count": null,
   "metadata": {},
   "outputs": [],
   "source": [
    "f_test_used = 'f1'\n",
    "f_test_1D = f_test_dict[f_test_used]\n",
    "f_test_3D = f_test_3D_dict[f_test_used]"
   ]
  },
  {
   "cell_type": "code",
   "execution_count": null,
   "metadata": {},
   "outputs": [],
   "source": [
    "trapz_scipy_method = scipy.trapz #scipy_based trapezoid integration method\n",
    "trapz_torch_method = Trapezoid() #Torchquad trapezoid integration method\n",
    "simpson_scipy_method = simps #scipy_based simpson integration method\n",
    "simpson_torch_method = Simpson() #Torchquad simpson integration method"
   ]
  },
  {
   "cell_type": "markdown",
   "metadata": {},
   "source": [
    "## Selecting number of integration points and average measurements per step"
   ]
  },
  {
   "cell_type": "code",
   "execution_count": null,
   "metadata": {},
   "outputs": [],
   "source": [
    "N_points = [11, 101, 1001, 10001] #Number of iteration tests\n",
    "iterations = 10 #Number of iterations used to take an average runtime measurement"
   ]
  },
  {
   "cell_type": "code",
   "execution_count": null,
   "metadata": {},
   "outputs": [],
   "source": [
    "ground_through_dict = {'f1' : 22/3 * np.ones(len(N_points)), 'f1_2' : 46/15 * np.ones(len(N_points)), 'f_x': np.zeros(len(N_points))}"
   ]
  },
  {
   "cell_type": "markdown",
   "metadata": {},
   "source": [
    "## Testing runtime performance"
   ]
  },
  {
   "cell_type": "code",
   "execution_count": null,
   "metadata": {},
   "outputs": [],
   "source": [
    "scipy_trapz1D_runtime = runtime_measure(method=trapz_scipy_method, dim=1, scipy_based=True, fn=f_test_1D, N=N_points, iterations=iterations)"
   ]
  },
  {
   "cell_type": "code",
   "execution_count": null,
   "metadata": {},
   "outputs": [],
   "source": [
    "torch_trapz1D_runtime = runtime_measure(method=trapz_torch_method.integrate, dim=1, scipy_based=False, fn=f_test_1D, N=N_points, iterations=iterations)"
   ]
  },
  {
   "cell_type": "code",
   "execution_count": null,
   "metadata": {},
   "outputs": [],
   "source": [
    "scipy_simps_runtime = runtime_measure(method=simpson_scipy_method, dim=1, scipy_based=True, fn=f_test_1D, N=N_points, iterations=iterations)"
   ]
  },
  {
   "cell_type": "code",
   "execution_count": null,
   "metadata": {},
   "outputs": [],
   "source": [
    "torch_simps_runtime = runtime_measure(method=simpson_torch_method.integrate, dim=1, scipy_based=False, fn=f_test_1D, N=N_points, iterations=iterations)"
   ]
  },
  {
   "cell_type": "code",
   "execution_count": null,
   "metadata": {},
   "outputs": [],
   "source": [
    "scipy_3d_quad = runtime_measure(method=simpson_torch_method.integrate, dim=3, scipy_based=True, fn=f_test_3D, N=N_points, iterations=iterations)"
   ]
  },
  {
   "cell_type": "code",
   "execution_count": null,
   "metadata": {},
   "outputs": [],
   "source": [
    "plt_rt.plot_runtime([N_points, N_points, N_points, N_points], [scipy_trapz1D_runtime, torch_trapz1D_runtime, scipy_simps_runtime, torch_simps_runtime], labels=['scipy_trapz1D', 'torch_trapz1D', 'scipy_simps', 'torch_simps'])"
   ]
  },
  {
   "cell_type": "markdown",
   "metadata": {},
   "source": [
    "## Measuring convergence rate"
   ]
  },
  {
   "cell_type": "code",
   "execution_count": null,
   "metadata": {},
   "outputs": [],
   "source": [
    "scipy_method_integral = get_integral(method=trapz_scipy_method, dim=1, scipy_based=True, fn=f_test, N=N_points)"
   ]
  },
  {
   "cell_type": "code",
   "execution_count": null,
   "metadata": {},
   "outputs": [],
   "source": [
    "torch_method_integral = get_integral(method=integral_torch_method.integrate, scipy_based=False, fn=f_test, N=N_points)"
   ]
  },
  {
   "cell_type": "code",
   "execution_count": null,
   "metadata": {},
   "outputs": [],
   "source": [
    "plt_conv.plot_convergence([N_points, N_points], [scipy_method_integral, torch_method_integral], ground_through_dict[f_test_used] , ['scipy_method', 'torch_method'], dpi=150)"
   ]
  }
 ],
 "metadata": {
  "kernelspec": {
   "display_name": "Python 3",
   "language": "python",
   "name": "python3"
  },
  "language_info": {
   "codemirror_mode": {
    "name": "ipython",
    "version": 3
   },
   "file_extension": ".py",
   "mimetype": "text/x-python",
   "name": "python",
   "nbconvert_exporter": "python",
   "pygments_lexer": "ipython3",
   "version": "3.8.6"
  }
 },
 "nbformat": 4,
 "nbformat_minor": 4
}
