{
 "cells": [
  {
   "cell_type": "code",
   "execution_count": null,
   "metadata": {},
   "outputs": [],
   "source": [
    "import scipy\n",
    "import scipy.integrate as si\n",
    "import numpy as np\n",
    "import matplotlib.pyplot as plt"
   ]
  },
  {
   "cell_type": "code",
   "execution_count": null,
   "metadata": {},
   "outputs": [],
   "source": [
    "import os,sys \n",
    "os.chdir(\"..\")"
   ]
  },
  {
   "cell_type": "code",
   "execution_count": null,
   "metadata": {},
   "outputs": [],
   "source": [
    "from torchquad.utils.benchmark_utils import _runtime_measure as runtime_measure\n",
    "from torchquad.utils.benchmark_utils import _get_integral as get_integral\n",
    "from torchquad.plots import plot_runtime as plt_rt\n",
    "from torchquad.plots import plot_convergence as plt_conv\n",
    "from torchquad.integration.monte_carlo import MonteCarlo \n",
    "from torchquad.integration.trapezoid_1D import Trapezoid1D\n",
    "from torchquad.utils.enable_cuda import enable_cuda\n",
    "from torchquad.tests import trapezoid_1D_test\n",
    "import torch"
   ]
  },
  {
   "cell_type": "markdown",
   "metadata": {},
   "source": [
    "## Enable GPU usage"
   ]
  },
  {
   "cell_type": "code",
   "execution_count": null,
   "metadata": {},
   "outputs": [],
   "source": [
    "enable_cuda()"
   ]
  },
  {
   "cell_type": "markdown",
   "metadata": {},
   "source": [
    "## Set precision"
   ]
  },
  {
   "cell_type": "code",
   "execution_count": null,
   "metadata": {},
   "outputs": [],
   "source": [
    "np.set_printoptions(precision=10)\n",
    "torch.set_printoptions(precision=10)"
   ]
  },
  {
   "cell_type": "markdown",
   "metadata": {},
   "source": [
    "## Some test functions"
   ]
  },
  {
   "cell_type": "code",
   "execution_count": null,
   "metadata": {},
   "outputs": [],
   "source": [
    "def f1(x):\n",
    "    return 4 - torch.pow(x,2)\n",
    "\n",
    "def f1_2(x):\n",
    "    return  torch.pow(x,5) - 4* torch.pow(x,4) + 23* torch.pow(x,3) + 4* torch.pow(x,2) - 3*x + 1\n",
    "\n",
    "def f_x(x):\n",
    "    return x"
   ]
  },
  {
   "cell_type": "markdown",
   "metadata": {},
   "source": [
    "## Selecting test function and integration method"
   ]
  },
  {
   "cell_type": "code",
   "execution_count": null,
   "metadata": {},
   "outputs": [],
   "source": [
    "f_test_dict={'f1' : f1, 'f1_2' : f1_2, 'f_x' : f_x}"
   ]
  },
  {
   "cell_type": "code",
   "execution_count": null,
   "metadata": {},
   "outputs": [],
   "source": [
    "f_test_used = 'f1'\n",
    "f_test = f_test_dict[f_test_used]"
   ]
  },
  {
   "cell_type": "code",
   "execution_count": null,
   "metadata": {},
   "outputs": [],
   "source": [
    "scipy_method = scipy.trapz #scipy_based integration method\n",
    "integral_torch_method = Trapezoid1D() #Torchquad integration method"
   ]
  },
  {
   "cell_type": "markdown",
   "metadata": {},
   "source": [
    "## Selecting number of integration points and average measurements per step"
   ]
  },
  {
   "cell_type": "code",
   "execution_count": null,
   "metadata": {},
   "outputs": [],
   "source": [
    "N_points = [10, 100, 1000, 10000] #Number of iteration tests\n",
    "iterations = 10 #Number of iterations used to take an average runtime measurement"
   ]
  },
  {
   "cell_type": "code",
   "execution_count": null,
   "metadata": {},
   "outputs": [],
   "source": [
    "ground_through_dict = {'f1' : 22/3 * np.ones(len(N_points)), 'f1_2' : 46/15 * np.ones(len(N_points)), 'f_x': np.zeros(len(N_points))}"
   ]
  },
  {
   "cell_type": "markdown",
   "metadata": {},
   "source": [
    "## Testing runtime performance"
   ]
  },
  {
   "cell_type": "code",
   "execution_count": null,
   "metadata": {},
   "outputs": [],
   "source": [
    "scipy_method_runtime = runtime_measure(method=scipy_method, scipy_based=True, fn=f_test, N=N_points, iterations=iterations)"
   ]
  },
  {
   "cell_type": "code",
   "execution_count": null,
   "metadata": {},
   "outputs": [],
   "source": [
    "torch_method_runtime = runtime_measure(method=integral_torch_method.integrate, scipy_based=False, fn=f_test, N=N_points, iterations=iterations)"
   ]
  },
  {
   "cell_type": "code",
   "execution_count": null,
   "metadata": {},
   "outputs": [],
   "source": [
    "plt_rt.plot_runtime([N_points, N_points], [scipy_method_runtime, torch_method_runtime], labels=['scipy_method', 'torch_method'])"
   ]
  },
  {
   "cell_type": "markdown",
   "metadata": {},
   "source": [
    "## Measuring convergence rate"
   ]
  },
  {
   "cell_type": "code",
   "execution_count": null,
   "metadata": {},
   "outputs": [],
   "source": [
    "scipy_method_integral = get_integral(method=scipy_method, scipy_based=True, fn=f_test, N=N_points)"
   ]
  },
  {
   "cell_type": "code",
   "execution_count": null,
   "metadata": {},
   "outputs": [],
   "source": [
    "torch_method_integral = get_integral(method=integral_torch_method.integrate, scipy_based=False, fn=f_test, N=N_points)"
   ]
  },
  {
   "cell_type": "code",
   "execution_count": null,
   "metadata": {},
   "outputs": [],
   "source": [
    "plt_conv.plot_convergence([N_points, N_points], [scipy_method_integral, torch_method_integral], ground_through_dict[f_test_used] , ['scipy_method', 'torch_method'], dpi=150)"
   ]
  }
 ],
 "metadata": {
  "kernelspec": {
   "display_name": "Python 3",
   "language": "python",
   "name": "python3"
  },
  "language_info": {
   "codemirror_mode": {
    "name": "ipython",
    "version": 3
   },
   "file_extension": ".py",
   "mimetype": "text/x-python",
   "name": "python",
   "nbconvert_exporter": "python",
   "pygments_lexer": "ipython3",
   "version": "3.8.6"
  }
 },
 "nbformat": 4,
 "nbformat_minor": 4
}
