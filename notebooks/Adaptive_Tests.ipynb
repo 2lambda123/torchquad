{
 "cells": [
  {
   "cell_type": "code",
   "execution_count": null,
   "id": "3ae2eed7",
   "metadata": {},
   "outputs": [],
   "source": [
    "### Imports\n",
    "%load_ext autoreload\n",
    "%autoreload 2\n",
    "\n",
    "import os\n",
    "\n",
    "os.chdir(\"..\")\n",
    "import torchquad\n",
    "import numpy as np\n",
    "import torch\n",
    "import matplotlib.pyplot as plt\n",
    "\n",
    "%matplotlib notebook"
   ]
  },
  {
   "cell_type": "code",
   "execution_count": null,
   "id": "48800096",
   "metadata": {},
   "outputs": [],
   "source": [
    "torchquad.set_log_level(\"INFO\")\n",
    "torch.set_printoptions(precision=8)"
   ]
  },
  {
   "cell_type": "code",
   "execution_count": null,
   "id": "15eb95ec",
   "metadata": {},
   "outputs": [],
   "source": [
    "def tf1(x):\n",
    "    return torch.sin(x[:,0]**4 * 4 * np.pi) * x[:,1]\n",
    "\n",
    "gt_tf1 = 0.08224537642165943298735264808181737465596841727271552769029466418570857556005241752395781124068434672 \n",
    "\n",
    "# https://www.wolframalpha.com/input?i=integrate+-%28x-0.5%29%5E4++*+sin%28%28y-0.5%29%5E2*16%29+from+x%3D0+to+x%3D1+from+y%3D0+to+y%3D1\n",
    "\n",
    "def tf2(x):\n",
    "    return -(x[:,0] - 0.5)**4 * torch.sin((x[:,1] - 0.5)**2*24)\n",
    "\n",
    "gt_tf2 = -0.002237582933156115933795974818428222657210309163702382340277410905010095369201654703359706808120094476\n",
    "\n",
    "def print_error(gt,val):\n",
    "    print(f\"Correct val: {gt:.8e}, TQ={val:.8e}, AbsError={abs(val-gt):.4e},  RelError={abs(val-gt) / abs(gt):.4e}\")"
   ]
  },
  {
   "cell_type": "code",
   "execution_count": null,
   "id": "a1bf9323",
   "metadata": {},
   "outputs": [],
   "source": [
    "def plot_adaptive_grid(grid, dpi=100):\n",
    "    \"\"\"Plots the adaptive grid and corresponding function value.\n",
    "\n",
    "    Args:\n",
    "        grid (AdaptiveGrid): AdaptiveGrid of evaluated function\n",
    "        dpi (int, optional): Plot dpi. Defaults to 100.\n",
    "    \"\"\"\n",
    "\n",
    "    fig = plt.figure(figsize = (8,6),dpi=dpi)\n",
    "    points = None\n",
    "    fvals = None\n",
    "    for subdomain in grid.subdomains:\n",
    "        if points is None:\n",
    "            points = subdomain.points.cpu().numpy()\n",
    "            fvals = subdomain.fval.cpu().numpy()\n",
    "        else:    \n",
    "            points = np.concatenate([points,subdomain.points.cpu().numpy()])\n",
    "            fvals = np.concatenate([fvals,subdomain.fval.cpu().numpy()])\n",
    "    ax = fig.add_subplot(111, projection='3d')\n",
    "#     ax.plot_trisurf(points[:,0], points[:,1], fvals, color='white', edgecolors='grey', alpha=0.5)\n",
    "    ax.scatter(points[:,0], points[:,1], fvals, s = 0.1, c='red')\n",
    "    ax.set_xlabel('X')\n",
    "    ax.set_ylabel('Y')\n",
    "    ax.set_zlabel('Function Value')\n",
    "    plt.show()\n"
   ]
  },
  {
   "cell_type": "code",
   "execution_count": null,
   "id": "ce771540",
   "metadata": {},
   "outputs": [],
   "source": [
    "f = tf2\n",
    "gt = gt_tf2"
   ]
  },
  {
   "cell_type": "code",
   "execution_count": null,
   "id": "80607a5c",
   "metadata": {},
   "outputs": [],
   "source": [
    "trap = torchquad.Boole()\n",
    "val = trap.integrate(f,dim=2,N=10000,integration_domain=[[0,1],[0,1]])\n",
    "print_error(gt,val)"
   ]
  },
  {
   "cell_type": "code",
   "execution_count": null,
   "id": "3cb0f5d5",
   "metadata": {
    "scrolled": false
   },
   "outputs": [],
   "source": [
    "at = torchquad.AdaptiveBoole()\n",
    "val = at.integrate(f,dim=2,N=10000,integration_domain=[[0,1],[0,1]],subdomains_per_dim=8,max_refinement_level=6)\n",
    "print_error(gt,val)"
   ]
  },
  {
   "cell_type": "code",
   "execution_count": null,
   "id": "b3487783",
   "metadata": {},
   "outputs": [],
   "source": [
    "plot_adaptive_grid(at._grid,dpi=150)"
   ]
  },
  {
   "cell_type": "code",
   "execution_count": null,
   "id": "0b21db18",
   "metadata": {},
   "outputs": [],
   "source": [
    "for subdomain in at._grid.subdomains:\n",
    "    subdomain.print_subdomain_properties()"
   ]
  },
  {
   "cell_type": "code",
   "execution_count": null,
   "id": "aad7ee94",
   "metadata": {},
   "outputs": [],
   "source": []
  }
 ],
 "metadata": {
  "kernelspec": {
   "display_name": "Python 3 (ipykernel)",
   "language": "python",
   "name": "python3"
  },
  "language_info": {
   "codemirror_mode": {
    "name": "ipython",
    "version": 3
   },
   "file_extension": ".py",
   "mimetype": "text/x-python",
   "name": "python",
   "nbconvert_exporter": "python",
   "pygments_lexer": "ipython3",
   "version": "3.9.4"
  }
 },
 "nbformat": 4,
 "nbformat_minor": 5
}
