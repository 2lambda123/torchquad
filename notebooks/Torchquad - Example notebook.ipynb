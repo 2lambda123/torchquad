{
 "cells": [
  {
   "cell_type": "markdown",
   "metadata": {},
   "source": [
    "# Torchquad - example notebook"
   ]
  },
  {
   "cell_type": "markdown",
   "metadata": {},
   "source": [
    "Torchquad is a powerful tool for numerical integration in several dimensions. It was developed by scientists in the Advanced Concepts Team at the European Space Agency. \n",
    "\n",
    "The name is an amalgam of *torch* (from  [PyTorch][1]) and *quad* (from the term *numerical quadrature*). According to [Wikipedia][2], some authors refer to numerical integration over more than one dimension as *cubature*; others take *quadrature* to include higher-dimensional integration as well. As you might have guessed, the authors of this package belong to the latter group:  \n",
    "\n",
    "**torchquad does multidimensional numerical integration using the PyTorch framework**.\n",
    "\n",
    "[1]: https://pytorch.org/\n",
    "[2]: https://en.wikipedia.org/wiki/Numerical_integration"
   ]
  },
  {
   "cell_type": "markdown",
   "metadata": {},
   "source": [
    "So why wouldn't you just use other integration tools, like [scipy.integrate.quad][3] or [.nquad][4]? Over *n* dimensions, the computation simply becomes too costly if *n* is large&#151;this problem is known as the *curse of dimensionality*. A solution is to take a shortcut, i.e. by evaluating the integrand at equally or randomly spaced points. The curse of dimensionality still applies, but at much larger *n*.\n",
    "\n",
    "The different integration methods in the torchquad package include [Monte Carlo integration][5], a technique for numerical integration using random numbers, and the [Newton-Cotes formulas][6], of which the Trapezoid rule and Simpson's rule are of the most famous members.\n",
    "\n",
    "[3]: https://docs.scipy.org/doc/scipy/reference/generated/scipy.integrate.quad.html#scipy.integrate.quad\n",
    "[4]: https://docs.scipy.org/doc/scipy/reference/generated/scipy.integrate.nquad.html#scipy.integrate.nquad\n",
    "[5]: https://en.wikipedia.org/wiki/Monte_Carlo_integration\n",
    "[6]: https://en.wikipedia.org/wiki/Newton%E2%80%93Cotes_formulas"
   ]
  },
  {
   "cell_type": "markdown",
   "metadata": {},
   "source": [
    "| Common name        | How it works                                                      | Spacing |\n",
    "|--------------------|-------------------------------------------------------------------|---------|\n",
    "| Trapezoid rule     | Creates a linear interpolant between two neighbouring points      | Equal   |\n",
    "| Simpson's rule     | Creates a quadratic interpolant between three neighbouring points | Equal   |\n",
    "| Monte Carlo method | Randomly chooses points at which the integrand is evaluated       | Random  |\n",
    "\n",
    "Could insert a table in markdown showing the different methods the user can use?  \n",
    "See: <https://www.tablesgenerator.com/markdown_tables>  \n",
    "From: <https://en.wikipedia.org/wiki/Newton%E2%80%93Cotes_formulas#Closed_Newton%E2%80%93Cotes_formulas>  "
   ]
  },
  {
   "cell_type": "markdown",
   "metadata": {},
   "source": [
    "We believe that this new architecture will soon be in the toolbox of any data scientist&#151;from those working on asteroid mass estimation to those who ... "
   ]
  },
  {
   "cell_type": "markdown",
   "metadata": {},
   "source": [
    "### Outline \n",
    "This notebook is a guide for new users to torchquad, and is structured in the following way:\n",
    "\n",
    "* Integration in one dimension (1-D)  \n",
    "* Integration in three dimensions (3-D)  \n",
    "* Integration in *n* dimensions (*n*-D)  \n",
    "* Convergence plots  \n",
    "* Run-time comparison with `scipy.integrate.nquad`"
   ]
  },
  {
   "cell_type": "markdown",
   "metadata": {},
   "source": [
    "## Imports\n",
    "Now let's get started! First, the general imports:"
   ]
  },
  {
   "cell_type": "code",
   "execution_count": null,
   "metadata": {},
   "outputs": [],
   "source": [
    "import math\n",
    "import numpy as np\n",
    "import scipy\n",
    "from IPython.display import clear_output\n",
    "from tqdm import tqdm_notebook as tqdm\n",
    "\n",
    "import matplotlib as mpl\n",
    "import matplotlib.pyplot as plt\n",
    "%matplotlib inline\n",
    "import seaborn as sns\n",
    "sns.color_palette(\"bright\")\n",
    "import matplotlib.cm as cm\n",
    "\n",
    "import torch\n",
    "from torch import Tensor\n",
    "from torch import nn\n",
    "from torch.nn  import functional as F \n",
    "from torch.autograd import Variable\n",
    "\n",
    "use_cuda = torch.cuda.is_available()"
   ]
  },
  {
   "cell_type": "markdown",
   "metadata": {},
   "source": [
    "Secondly, we need to import the integration methods:"
   ]
  },
  {
   "cell_type": "code",
   "execution_count": 2,
   "metadata": {},
   "outputs": [],
   "source": [
    "# Integration methods here, or below each heading?\n"
   ]
  },
  {
   "cell_type": "markdown",
   "metadata": {},
   "source": [
    "Oh, and you have to decide if you want to enable the GPU. Run the cell below to enable CUDA."
   ]
  },
  {
   "cell_type": "code",
   "execution_count": 3,
   "metadata": {},
   "outputs": [],
   "source": [
    "# I have no idea what I'm doing here."
   ]
  },
  {
   "cell_type": "markdown",
   "metadata": {},
   "source": [
    "## One dimensional integration\n",
    "\n",
    "To make sure everyone is following the methods used in this notebook, we will start in 1-D. \n",
    "\n",
    "`f1` is the function $ f(x) = x^2 $, and `f2` is $ f(x) = \\sin{x} $.  \n",
    "Over the domain $[-2,2]$, `f1` should give the result $\\int_{-2}^{2} x^2 \\,dx = \\frac{16}{3} = 5.33333333333333 $.  \n",
    "Over the domain $[-10,1]$, `f2` should give the result $\\int_{-10}^{1} \\sin{x} \\,dx = -1.37937383494459 $.\n"
   ]
  },
  {
   "cell_type": "code",
   "execution_count": 4,
   "metadata": {},
   "outputs": [
    {
     "ename": "ModuleNotFoundError",
     "evalue": "No module named 'integration'",
     "output_type": "error",
     "traceback": [
      "\u001b[1;31m---------------------------------------------------------------------------\u001b[0m",
      "\u001b[1;31mModuleNotFoundError\u001b[0m                       Traceback (most recent call last)",
      "\u001b[1;32m<ipython-input-4-2c62bce05f6f>\u001b[0m in \u001b[0;36m<module>\u001b[1;34m\u001b[0m\n\u001b[1;32m----> 1\u001b[1;33m \u001b[1;32mfrom\u001b[0m \u001b[0mintegration\u001b[0m\u001b[1;33m.\u001b[0m\u001b[0mmonte_carlo\u001b[0m \u001b[1;32mimport\u001b[0m \u001b[0mMonteCarlo\u001b[0m\u001b[1;33m\u001b[0m\u001b[1;33m\u001b[0m\u001b[0m\n\u001b[0m\u001b[0;32m      2\u001b[0m \u001b[1;32mfrom\u001b[0m \u001b[0mintegration\u001b[0m\u001b[1;33m.\u001b[0m\u001b[0mtrapezoid_1D\u001b[0m \u001b[1;32mimport\u001b[0m \u001b[0mTrapezoid1D\u001b[0m\u001b[1;33m\u001b[0m\u001b[1;33m\u001b[0m\u001b[0m\n\u001b[0;32m      3\u001b[0m \u001b[1;32mfrom\u001b[0m \u001b[0mintegration\u001b[0m\u001b[1;33m.\u001b[0m\u001b[0msimpson_1D\u001b[0m \u001b[1;32mimport\u001b[0m \u001b[0mSimpson1D\u001b[0m\u001b[1;33m\u001b[0m\u001b[1;33m\u001b[0m\u001b[0m\n\u001b[0;32m      4\u001b[0m \u001b[1;33m\u001b[0m\u001b[0m\n\u001b[0;32m      5\u001b[0m \u001b[1;32mdef\u001b[0m \u001b[0m_f1\u001b[0m\u001b[1;33m(\u001b[0m\u001b[0mx\u001b[0m\u001b[1;33m)\u001b[0m\u001b[1;33m:\u001b[0m\u001b[1;33m\u001b[0m\u001b[1;33m\u001b[0m\u001b[0m\n",
      "\u001b[1;31mModuleNotFoundError\u001b[0m: No module named 'integration'"
     ]
    }
   ],
   "source": [
    "from integration.monte_carlo import MonteCarlo\n",
    "from integration.trapezoid_1D import Trapezoid1D\n",
    "from integration.simpson_1D import Simpson1D\n",
    "\n",
    "def _f1(x):\n",
    "    return torch.pow(x, 2)\n",
    "\n",
    "def _f2(x):\n",
    "    return torch.sin(x)\n",
    "\n",
    "def _eval(f, integration_domain, N=50000):\n",
    "    # Init a trapezoid\n",
    "    tp = Trapezoid1D()\n",
    "    return tp.integrate(f, N=N, integration_domain=integration_domain)\n",
    "\n",
    "_max_err = 1e-6\n",
    "\n",
    "def test_integrate():\n",
    "    torch.set_default_tensor_type(torch.DoubleTensor)\n",
    "\n",
    "    # F1 , x^2\n",
    "    integration_domain = [[-2, 2]]\n",
    "    ground_truth = 16 / 3\n",
    "    assert torch.abs(_eval(_f1, integration_domain) - ground_truth) < _max_err\n",
    "\n",
    "    # F2 , sin(x)\n",
    "    integration_domain = [[-10, -1]]\n",
    "    ground_truth = -1.37937383494459\n",
    "    assert torch.abs(_eval(_f2, integration_domain) - ground_truth) < _max_err"
   ]
  },
  {
   "cell_type": "code",
   "execution_count": null,
   "metadata": {},
   "outputs": [],
   "source": []
  }
 ],
 "metadata": {
  "kernelspec": {
   "display_name": "Python 3",
   "language": "python",
   "name": "python3"
  },
  "language_info": {
   "codemirror_mode": {
    "name": "ipython",
    "version": 3
   },
   "file_extension": ".py",
   "mimetype": "text/x-python",
   "name": "python",
   "nbconvert_exporter": "python",
   "pygments_lexer": "ipython3",
   "version": "3.7.3"
  }
 },
 "nbformat": 4,
 "nbformat_minor": 2
}
