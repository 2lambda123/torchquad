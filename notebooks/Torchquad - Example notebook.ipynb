{
 "cells": [
  {
   "cell_type": "markdown",
   "metadata": {},
   "source": [
    "# Torchquad - example notebook"
   ]
  },
  {
   "cell_type": "markdown",
   "metadata": {},
   "source": [
    "Torchquad is a powerful tool for numerical integration in multiple dimensions. It was developed by scientists in the Advanced Concepts Team at the European Space Agency. \n",
    "\n",
    "The name is an amalgam of *torch* (from  [PyTorch][1]) and *quad* (from the term *numerical quadrature*). According to [Wikipedia][2], some authors refer to numerical integration over more than one dimension as *cubature*; others take *quadrature* to include higher-dimensional integration as well. As you might have guessed, the authors of this package belong to the latter group:  \n",
    "**torchquad does multidimensional numerical integration using the PyTorch framework**.\n",
    "\n",
    "[1]: https://pytorch.org/\n",
    "[2]: https://en.wikipedia.org/wiki/Numerical_integration"
   ]
  },
  {
   "cell_type": "markdown",
   "metadata": {},
   "source": [
    "So why wouldn't you just use other integration tools, like [scipy.integrate.quad][3] or [.nquad][4]? Over *n* dimensions, the computation simply becomes too costly if *n* is large&#151;this problem is known as the *curse of dimensionality*. A solution is to take a shortcut, i.e. by evaluating the integrand at equally or randomly spaced points. The curse of dimensionality still applies, but at much larger *n*.\n",
    "\n",
    "The different integration methods in the torchquad package include [Monte Carlo integration][5], a technique for numerical integration using random numbers, and the [Newton-Cotes formulas][6], of which the Trapezoid rule and Simpson's rule are of the most famous members.\n",
    "\n",
    "[3]: https://docs.scipy.org/doc/scipy/reference/generated/scipy.integrate.quad.html#scipy.integrate.quad\n",
    "[4]: https://docs.scipy.org/doc/scipy/reference/generated/scipy.integrate.nquad.html#scipy.integrate.nquad\n",
    "[5]: https://en.wikipedia.org/wiki/Monte_Carlo_integration\n",
    "[6]: https://en.wikipedia.org/wiki/Newton%E2%80%93Cotes_formulas"
   ]
  },
  {
   "cell_type": "markdown",
   "metadata": {},
   "source": [
    "| Common name        | How it works                                                      | Spacing |\n",
    "|--------------------|-------------------------------------------------------------------|---------|\n",
    "| Trapezoid rule     | Creates a linear interpolant between two neighbouring points      | Equal   |\n",
    "| Simpson's rule     | Creates a quadratic interpolant between three neighbouring points | Equal   |\n",
    "| Monte Carlo method | Randomly chooses points at which the integrand is evaluated       | Random  |\n",
    "\n",
    "`Could insert a table in markdown showing the different methods the user can use?`  \n",
    "See: <https://www.tablesgenerator.com/markdown_tables>  \n",
    "From: <https://en.wikipedia.org/wiki/Newton%E2%80%93Cotes_formulas#Closed_Newton%E2%80%93Cotes_formulas>  "
   ]
  },
  {
   "cell_type": "markdown",
   "metadata": {},
   "source": [
    "We believe that this new architecture will soon be in the toolbox of any data scientist&#151;from those working on asteroid mass estimation to those who ... "
   ]
  },
  {
   "cell_type": "markdown",
   "metadata": {},
   "source": [
    "### Outline \n",
    "This notebook is a guide for new users to torchquad and is structured in the following way:\n",
    "\n",
    "* Example integration in one dimension (1-D)  \n",
    "* Example integration in three dimensions (3-D)  \n",
    "* How to do integration in *n* dimensions (*n*-D)  \n",
    "* Convergence plots  \n",
    "* Run-time comparison with `scipy.integrate.nquad`"
   ]
  },
  {
   "cell_type": "markdown",
   "metadata": {},
   "source": [
    "## Imports\n",
    "Now let's get started! First, the general imports:"
   ]
  },
  {
   "cell_type": "code",
   "execution_count": 1,
   "metadata": {},
   "outputs": [],
   "source": [
    "import numpy as np\n",
    "import scipy\n",
    "\n",
    "#For plotting\n",
    "import matplotlib.pyplot as plt\n",
    "\n",
    "import torch\n",
    "\n",
    "use_cuda = torch.cuda.is_available()"
   ]
  },
  {
   "cell_type": "markdown",
   "metadata": {},
   "source": [
    "Oh, and you have to decide if you want to enable the GPU. Run the cell below to enable CUDA."
   ]
  },
  {
   "cell_type": "code",
   "execution_count": 3,
   "metadata": {},
   "outputs": [],
   "source": [
    "# I have no idea what I'm doing here."
   ]
  },
  {
   "cell_type": "markdown",
   "metadata": {},
   "source": [
    "## One dimensional integration\n",
    "\n",
    "To make sure everyone is following the methods used in this notebook, we will start in one dimension. See [Patrick Walls][1]' nice Python introduction to the [Trapezoid rule][2] and [Simpson's rule][3] in one dimension. \n",
    "\n",
    "`f1` is the function $ f(x) = x^2 + 1 $, and `f2` is $ f(x) = \\sin{x} $.  \n",
    "Over the domain $[-2,2]$, `f1` should give the result $\\int_{-2}^{2} (x^2 + 1) \\,dx = \\frac{28}{3} = 9.33333333333333 $.  \n",
    "Over the domain $[-10,1]$, `f2` should give the result $\\int_{-10}^{1} \\sin{x} \\,dx = -1.37937383494459 $.\n",
    "\n",
    "[1]: https://github.com/patrickwalls\n",
    "[2]: https://www.math.ubc.ca/~pwalls/math-python/integration/trapezoid-rule/\n",
    "[3]: https://www.math.ubc.ca/~pwalls/math-python/integration/simpsons-rule/"
   ]
  },
  {
   "cell_type": "code",
   "execution_count": 14,
   "metadata": {},
   "outputs": [
    {
     "name": "stdout",
     "output_type": "stream",
     "text": [
      "tensor([10.5185])\n",
      "tensor([9.3807])\n",
      "tensor([9.3344])\n",
      "tensor([9.3333])\n",
      "tensor([9.3272])\n"
     ]
    }
   ],
   "source": [
    "from torchquad import MonteCarlo, Trapezoid1D\n",
    "\n",
    "def f1(x):\n",
    "    return x**2 + 1\n",
    "\n",
    "integration_domain = [[-2, 2]]\n",
    "tp = Trapezoid1D()\n",
    "for N in [4,16,100, 1000, 66666]:\n",
    "    a = tp.integrate(f1, N, integration_domain)\n",
    "    print(a)"
   ]
  },
  {
   "cell_type": "code",
   "execution_count": null,
   "metadata": {},
   "outputs": [],
   "source": []
  }
 ],
 "metadata": {
  "kernelspec": {
   "display_name": "Python 3",
   "language": "python",
   "name": "python3"
  },
  "language_info": {
   "codemirror_mode": {
    "name": "ipython",
    "version": 3
   },
   "file_extension": ".py",
   "mimetype": "text/x-python",
   "name": "python",
   "nbconvert_exporter": "python",
   "pygments_lexer": "ipython3",
   "version": "3.8.6"
  }
 },
 "nbformat": 4,
 "nbformat_minor": 2
}
